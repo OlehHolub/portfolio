{
 "cells": [
  {
   "cell_type": "markdown",
   "id": "feed4182-706a-4abc-ac6b-b8d00d9ca442",
   "metadata": {},
   "source": [
    "# Introduction\n",
    "\n",
    "The first test of your new data exploration skills uses data describing crime in the city of Chicago.\n",
    ".rs."
   ]
  },
  {
   "cell_type": "code",
   "execution_count": 10,
   "id": "b9d0d038-4ee9-44a1-be7c-92d7af139581",
   "metadata": {},
   "outputs": [
    {
     "name": "stdout",
     "output_type": "stream",
     "text": [
      "<google.cloud.bigquery.client.Client object at 0x7efce7a71bd0>\n"
     ]
    }
   ],
   "source": [
    "from google.cloud import bigquery\n",
    "\n",
    "# Create a \"Client\" object\n",
    "client = bigquery.Client()\n",
    "print(client)"
   ]
  },
  {
   "cell_type": "code",
   "execution_count": 7,
   "id": "5a735466-2b95-429d-923e-3c975b1bab8a",
   "metadata": {},
   "outputs": [
    {
     "name": "stdout",
     "output_type": "stream",
     "text": [
      "bigquery-public-data.chicago_crime\n"
     ]
    }
   ],
   "source": [
    "# Construct a eferencre to the \"chicago_crime\" dataset\n",
    "dataset_ref = client.dataset(\"chicago_crime\", project=\"bigquery-public-data\")\n",
    "print(dataset_ref)"
   ]
  },
  {
   "cell_type": "code",
   "execution_count": 8,
   "id": "583d6287-e119-41f0-b880-eb17e7045cd9",
   "metadata": {},
   "outputs": [
    {
     "name": "stdout",
     "output_type": "stream",
     "text": [
      "Dataset(DatasetReference('bigquery-public-data', 'chicago_crime'))\n"
     ]
    }
   ],
   "source": [
    "# API request - fetch the dataset\n",
    "dataset = client.get_dataset(dataset_ref)\n",
    "print(dataset)"
   ]
  },
  {
   "cell_type": "markdown",
   "id": "b3c9b671-8025-4ed6-aa0f-2a21044f25b8",
   "metadata": {},
   "source": [
    "# Exercises\n",
    "\n",
    "### 1) Count tables in the dataset\n",
    "\n",
    "How many tables are in the Chicago Crime dataset?"
   ]
  },
  {
   "cell_type": "code",
   "execution_count": 14,
   "id": "1c6eb718-3587-40d0-a09c-42e0c33a772e",
   "metadata": {},
   "outputs": [
    {
     "name": "stdout",
     "output_type": "stream",
     "text": [
      "['crime']\n"
     ]
    }
   ],
   "source": [
    "# List all the tables in the \"chicago_crime\" dataset\n",
    "tables = list(client.list_tables(dataset))\n",
    "print([t.table_id for t in tables])"
   ]
  },
  {
   "cell_type": "code",
   "execution_count": 6,
   "id": "80183090-2ed3-4c84-8dbc-acd65aabef34",
   "metadata": {},
   "outputs": [
    {
     "name": "stdout",
     "output_type": "stream",
     "text": [
      "1\n"
     ]
    }
   ],
   "source": [
    "# Print number of tables in the dataset\n",
    "print(len(tables))"
   ]
  },
  {
   "cell_type": "markdown",
   "id": "47a2bab3-ca76-4561-827f-7d28ad02a22c",
   "metadata": {},
   "source": [
    "### 2) Explore the table schema\n",
    "\n",
    "How many columns in the `crime` table have `TIMESTAMP` data?"
   ]
  },
  {
   "cell_type": "code",
   "execution_count": 27,
   "id": "614baf16-618b-4713-9747-074bb670c2c9",
   "metadata": {},
   "outputs": [],
   "source": [
    "# Construct a reference to the \"crime\" table\n",
    "table_ref = dataset_ref.table(\"crime\")\n"
   ]
  },
  {
   "cell_type": "code",
   "execution_count": 30,
   "id": "c69a8c1b-1b02-4dc4-9bd8-e26d508ebde9",
   "metadata": {},
   "outputs": [],
   "source": [
    "# API request - fetch the table\n",
    "crime_table = client.get_table(table_ref)"
   ]
  },
  {
   "cell_type": "code",
   "execution_count": 31,
   "id": "5eced838-1a7c-4cc1-aa1e-78dda401f027",
   "metadata": {},
   "outputs": [
    {
     "name": "stdout",
     "output_type": "stream",
     "text": [
      "2\n"
     ]
    }
   ],
   "source": [
    "timestamp_columns = [schema_field.name for schema_field in crime_table.schema if schema_field.field_type == \"TIMESTAMP\"]\n",
    "print(len(timestamp_columns))"
   ]
  },
  {
   "cell_type": "markdown",
   "id": "2612d265-80de-4feb-894a-812f8961cc16",
   "metadata": {},
   "source": [
    "### 3) Create a crime map\n",
    "\n",
    "If you wanted to create a map with a dot at the location of each crime, what are the names of the two fields you likely need to pull out of the `crime` table to plot the crimes on a map?"
   ]
  },
  {
   "cell_type": "code",
   "execution_count": 39,
   "id": "cdb06a5c-775d-4d3a-ab20-1ac64b336887",
   "metadata": {},
   "outputs": [
    {
     "name": "stdout",
     "output_type": "stream",
     "text": [
      "['unique_key', 'case_number', 'date', 'block', 'iucr', 'primary_type', 'description', 'location_description', 'arrest', 'domestic', 'beat', 'district', 'ward', 'community_area', 'fbi_code', 'x_coordinate', 'y_coordinate', 'year', 'updated_on', 'latitude', 'longitude', 'location']\n"
     ]
    }
   ],
   "source": [
    "column_names = [field.name for field in crime_table.schema]\n",
    "print(column_names)"
   ]
  },
  {
   "cell_type": "code",
   "execution_count": null,
   "id": "23f34980-01e0-4eb6-862f-f5179faac3fa",
   "metadata": {},
   "outputs": [],
   "source": [
    "fields_for_plotting = ['latitude', 'longitude']"
   ]
  }
 ],
 "metadata": {
  "kernelspec": {
   "display_name": "Python 3 (ipykernel)",
   "language": "python",
   "name": "python3"
  },
  "language_info": {
   "codemirror_mode": {
    "name": "ipython",
    "version": 3
   },
   "file_extension": ".py",
   "mimetype": "text/x-python",
   "name": "python",
   "nbconvert_exporter": "python",
   "pygments_lexer": "ipython3",
   "version": "3.11.6"
  }
 },
 "nbformat": 4,
 "nbformat_minor": 5
}
